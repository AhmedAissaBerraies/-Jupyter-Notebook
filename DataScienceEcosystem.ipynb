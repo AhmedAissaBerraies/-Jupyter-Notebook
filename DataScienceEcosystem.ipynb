{
 "cells": [
  {
   "cell_type": "markdown",
   "id": "ranking-photographer",
   "metadata": {},
   "source": [
    "# Data Science Tools and Ecosystem"
   ]
  },
  {
   "cell_type": "markdown",
   "id": "massive-print",
   "metadata": {},
   "source": [
    "In this notebook, Data Science Tools and Ecosystem are summarized.\n"
   ]
  },
  {
   "cell_type": "markdown",
   "id": "vocational-canberra",
   "metadata": {},
   "source": [
    "#### Objectives\n",
    "\n",
    "- List popular languages for Data Science\n",
    "- List commonly used libraries for Data Science\n",
    "- List commonly used open-source tools for Data Science"
   ]
  },
  {
   "cell_type": "markdown",
   "id": "sharing-presence",
   "metadata": {},
   "source": [
    "## Author\n",
    "Ahmed Aissa Berraies"
   ]
  },
  {
   "cell_type": "markdown",
   "id": "spiritual-object",
   "metadata": {},
   "source": [
    "Some of the popular languages that Data Scientists use are:\n",
    "1. Python\n",
    "2. R\n",
    "3. SQL\n",
    "4. Julia\n"
   ]
  },
  {
   "cell_type": "markdown",
   "id": "unlike-assist",
   "metadata": {},
   "source": [
    "Some of the commonly used libraries used by Data Scientists include:\n",
    "1. Numpy \n",
    "2. Pandas \n",
    "3. Matplotlib \n",
    "4. Scipy \n",
    "5. Scikit-learn"
   ]
  },
  {
   "cell_type": "markdown",
   "id": "varying-coordination",
   "metadata": {},
   "source": [
    "## Data Science Tools\n",
    "Hadoop\\\n",
    "Apache Spark\\\n",
    "Scrapy\n"
   ]
  },
  {
   "cell_type": "markdown",
   "id": "processed-grass",
   "metadata": {},
   "source": [
    "### Below are a few examples of evaluating arithmetic expressions in Python.\n"
   ]
  },
  {
   "cell_type": "code",
   "execution_count": 1,
   "id": "legislative-compiler",
   "metadata": {},
   "outputs": [
    {
     "name": "stdout",
     "output_type": "stream",
     "text": [
      "17\n"
     ]
    }
   ],
   "source": [
    "#This a simple arithmetic expression to mutiply then add integers\n",
    "\n",
    "print(3*4 + 5)"
   ]
  },
  {
   "cell_type": "code",
   "execution_count": 2,
   "id": "realistic-anaheim",
   "metadata": {},
   "outputs": [
    {
     "name": "stdout",
     "output_type": "stream",
     "text": [
      "3.3333333333333335\n"
     ]
    }
   ],
   "source": [
    "#This will convert 200 minutes to hours by diving by 60.\n",
    "\n",
    "minutes=200\n",
    "h=minutes / 60\n",
    "print(h)"
   ]
  }
 ],
 "metadata": {
  "kernelspec": {
   "display_name": "Python 3",
   "language": "python",
   "name": "python3"
  },
  "language_info": {
   "codemirror_mode": {
    "name": "ipython",
    "version": 3
   },
   "file_extension": ".py",
   "mimetype": "text/x-python",
   "name": "python",
   "nbconvert_exporter": "python",
   "pygments_lexer": "ipython3",
   "version": "3.7.9"
  }
 },
 "nbformat": 4,
 "nbformat_minor": 5
}
